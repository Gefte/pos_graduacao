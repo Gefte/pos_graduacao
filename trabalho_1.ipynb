{
 "cells": [
  {
   "attachments": {},
   "cell_type": "markdown",
   "metadata": {},
   "source": [
    "# Processo infeccioso pulmonar\n",
    "\n",
    "Neste estudo de caso-controle realizado no Setor de Anatomia e Patologia do Hospital Heliópolis em São Paulo, no período de 1970 a 1982, vamos analisar dados de pacientes com processo infeccioso pulmonar e ajustar um modelo logístico com efeitos principais.\n",
    "\n",
    "Os dados consistem em 175 pacientes classificados segundo as seguintes variáveis:\n",
    "- Y: tipo de tumor (1: maligno, 0: benigno)\n",
    "- IDADE: idade em anos\n",
    "- SEXO: sexo (0: masculino, 1: feminino)\n",
    "- HL: intensidade da célula histiócitos-linfócitos (1: ausente, 2: discreta, 3: moderada, 4: intensa)\n",
    "- FF: intensidade da célula fibrose-frouxa (1: ausente, 2: discreta, 3: moderada, 4: intensa)\n",
    "\n",
    "Vamos ajustar um Modelo Logístico para investigar a relação entre as variáveis explicativas e a chance de processo infeccioso pulmonar ser maligno.\n"
   ]
  },
  {
   "cell_type": "code",
   "execution_count": 25,
   "metadata": {},
   "outputs": [],
   "source": [
    "import pandas as pd\n",
    "import numpy as np\n",
    "import statsmodels.api as sm\n",
    "import statsmodels.formula.api as smf\n",
    "\n",
    "\n",
    "data = pd.read_csv('canc3.dat', sep='\\t', names=['tipo', 'idade', 'sexo', 'hl', 'ff'])\n",
    "\n",
    "data['sexo'] = pd.Categorical(data['sexo'])\n",
    "data['hl'] = pd.Categorical(data['hl'])\n",
    "data['ff'] = pd.Categorical(data['ff'])"
   ]
  },
  {
   "cell_type": "code",
   "execution_count": 48,
   "metadata": {},
   "outputs": [
    {
     "name": "stderr",
     "output_type": "stream",
     "text": [
      "/tmp/ipykernel_1623626/219874301.py:2: ParserWarning: Falling back to the 'python' engine because the 'c' engine does not support regex separators (separators > 1 char and different from '\\s+' are interpreted as regex); you can avoid this warning by specifying engine='python'.\n",
      "  read_file = pd.read_csv(\"canc3.dat\",sep=\" ::\",header=None)\n"
     ]
    }
   ],
   "source": [
    "import pandas as pd\n",
    "read_file = pd.read_csv(\"canc3.dat\",sep=\" ::\",header=None)\n",
    "#read_file.to_csv ('my_file.csv', index=None)"
   ]
  },
  {
   "attachments": {},
   "cell_type": "markdown",
   "metadata": {},
   "source": [
    "## Fundamentação teórica\n",
    "\n",
    "O Modelo Logístico é um tipo específico de Modelo Linear Generalizado (GLM). A variável resposta é binária, e a distribuição usada é a distribuição binomial. A escolha da distribuição binomial é justificada porque ela é adequada para modelar variáveis binárias, como a presença ou ausência de um evento.\n",
    "\n",
    "O Modelo Logístico utiliza a função de ligação logit:\n",
    "\n",
    "$$\n",
    "g(\\mu) = logit(\\mu) = log\\left(\\frac{\\mu}{1 - \\mu}\\right)\n",
    "$$\n",
    "\n",
    "A parte sistemática do modelo logístico é dada por:\n",
    "\n",
    "$$\n",
    "\\eta = \\beta_0 + \\beta_1 X_1 + \\beta_2 X_2 + ... + \\beta_p X_p\n",
    "$$\n",
    "\n",
    "No caso específico do problema apresentado, temos as seguintes variáveis explicativas: IDADE, SEXO, HL e FF. Portanto, o preditor linear η é dado por:\n",
    "\n",
    "$$\n",
    "\\eta = \\beta_1 + \\beta_2 \\cdot IDADE + \\beta_3 \\cdot SEXO + \\sum_{i=1}^{4} \\beta_{4i} \\cdot HL_i+ \\sum_{i=1}^{4} \\beta_{5i} \\cdot FF_i\n",
    "$$\n"
   ]
  },
  {
   "attachments": {},
   "cell_type": "markdown",
   "metadata": {},
   "source": [
    "$\\eta$ (eta): $\\eta$ é a combinação linear das variáveis independentes (ou preditoras) e seus respectivos coeficientes. Em outras palavras, é a soma ponderada das variáveis, levando em consideração a importância (peso) de cada variável no modelo.\n",
    "\n",
    "Onde $\\beta_1$ é o coeficiente da constante (intercept), $\\beta_2$, $\\beta_3$, $\\beta_{4i}$ e $\\beta_{5i}$ são os coeficientes das variáveis IDADE, SEXO, HL e FF, respectivamente.\n",
    "\n",
    "$Pr\\{Y = 1 | \\eta\\}$: Essa é a probabilidade condicional de Y = 1 (evento de interesse) dado $\\eta$. Em outras palavras, é a probabilidade de o evento ocorrer (Y = 1) com base nos valores das variáveis preditoras e seus coeficientes.\n",
    "\n",
    "${1 + e^{-\\eta}}^{-1}$: Essa é a função logística ou sigmóide. A função logística transforma os valores de $\\eta$ (que podem variar de -∞ a +∞) em uma probabilidade que varia de 0 a 1. A função é dada por:\n",
    "\n",
    "$$Pr\\{Y = 1 | \\eta\\} = \\frac{1}{1 + e^{-\\eta}}$$\n",
    "\n",
    "Aqui, $e^{-\\eta}$ é a exponencial de $-\\eta$, que é uma função matemática que cresce rapidamente à medida que $\\eta$ aumenta.\n",
    "\n",
    "Agora, juntando todas as partes:\n",
    "\n",
    "Calcule $\\eta$ com base nos valores das variáveis preditoras e seus coeficientes.\n",
    "Aplique a função logística a $\\eta$ para obter a probabilidade condicional de Y = 1.\n",
    "\n",
    "Assim, a fórmula apresentada é usada para estimar a probabilidade de o evento de interesse (Y = 1) ocorrer com base nos valores das variáveis preditoras e seus coeficientes em uma regressão logística.\n",
    "\n",
    "Agora vamos ajustar o modelo logístico aos dados e analisar os resultados.\n"
   ]
  },
  {
   "cell_type": "code",
   "execution_count": 4,
   "metadata": {},
   "outputs": [
    {
     "name": "stdout",
     "output_type": "stream",
     "text": [
      "                 Generalized Linear Model Regression Results                  \n",
      "==============================================================================\n",
      "Dep. Variable:                   tipo   No. Observations:                   35\n",
      "Model:                            GLM   Df Residuals:                       26\n",
      "Model Family:                Binomial   Df Model:                            8\n",
      "Link Function:                  Logit   Scale:                          1.0000\n",
      "Method:                          IRLS   Log-Likelihood:                -3.6972\n",
      "Date:                Fri, 28 Apr 2023   Deviance:                       7.3945\n",
      "Time:                        00:39:48   Pearson chi2:                     7.95\n",
      "No. Iterations:                    22   Pseudo R-squ. (CS):             0.6848\n",
      "Covariance Type:            nonrobust                                         \n",
      "==============================================================================\n",
      "                 coef    std err          z      P>|z|      [0.025      0.975]\n",
      "------------------------------------------------------------------------------\n",
      "Intercept     10.9711   7.95e+04      0.000      1.000   -1.56e+05    1.56e+05\n",
      "sexo[T.2]      7.1489      3.995      1.789      0.074      -0.682      14.980\n",
      "hl[T.2]       -1.2851   8.18e+04  -1.57e-05      1.000    -1.6e+05     1.6e+05\n",
      "hl[T.3]      -31.2519   7.95e+04     -0.000      1.000   -1.56e+05    1.56e+05\n",
      "hl[T.4]      -51.2723   9.58e+04     -0.001      1.000   -1.88e+05    1.88e+05\n",
      "ff[T.2]       -2.1470      4.969     -0.432      0.666     -11.885       7.591\n",
      "ff[T.3]        3.6237      4.627      0.783      0.433      -5.444      12.692\n",
      "ff[T.4]        4.9491      5.048      0.980      0.327      -4.944      14.843\n",
      "idade          0.2948      0.134      2.196      0.028       0.032       0.558\n",
      "==============================================================================\n"
     ]
    }
   ],
   "source": [
    "formula = 'tipo ~ sexo + idade + hl + ff'\n",
    "logistic_model = smf.glm(formula, data=data, family=sm.families.Binomial())\n",
    "fit = logistic_model.fit()\n",
    "print(fit.summary())\n"
   ]
  },
  {
   "attachments": {},
   "cell_type": "markdown",
   "metadata": {},
   "source": [
    "A tabela apresenta os coeficientes estimados, erros padrão, estatísticas z, p-valores e intervalos de confiança a 95% para cada variável no modelo de regressão logística ajustado. A seguir, interpretamos os resultados de cada variável:\n",
    "\n",
    "**Sexo**: O coeficiente estimado para o sexo feminino (sexo[T.2]) é 7.1489, com um erro padrão de 3.995. \n",
    "O valor z é 1.789 e o p-valor associado é 0.074, indicando que a chance de processo infeccioso maligno\n",
    " é maior para o sexo feminino em comparação ao masculino, embora a relação não seja estatisticamente significativa ao nível de 5%.\n",
    "\n",
    "**Intensidade da célula histiócitos-linfócitos (HL)**: Os coeficientes estimados para as categorias 2, 3 e 4 de HL são -1.2851, -31.2519 e -51.2723, respectivamente. No entanto, os p-valores associados a esses coeficientes são todos muito próximos de 1, indicando que a relação entre a intensidade de HL e o processo infeccioso pulmonar não é estatisticamente significativa.\n",
    "\n",
    "**Intensidade da célula fibrose-frouxa (FF)**: Os coeficientes estimados para as categorias 2, 3 e 4 de FF são -2.1470, 3.6237 e 4.9491, respectivamente. Assim como para a variável HL, os p-valores associados a esses coeficientes são altos, indicando que a relação entre a intensidade de FF e o processo infeccioso pulmonar não é estatisticamente significativa.\n",
    "\n",
    "**Idade**: O coeficiente estimado para a idade é 0.2948, com um erro padrão de 0.134. O valor z é 2.196 e o p-valor associado é 0.028, indicando que a chance de processo infeccioso maligno aumenta significativamente com a idade.\n",
    "\n",
    "Em resumo, a análise dos resultados mostra que a chance de processo infeccioso maligno é maior para o sexo feminino em comparação ao masculino e aumenta significativamente com a idade. No entanto, a relação entre as intensidades das células HL e FF e o processo infeccioso pulmonar não é estatisticamente significativa.\n"
   ]
  },
  {
   "attachments": {},
   "cell_type": "markdown",
   "metadata": {},
   "source": [
    "## Resultados\n",
    "\n",
    "As estimativas dos parâmetros e seus erros padrão aproximados são apresentados na tabela abaixo:\n",
    "\n",
    "|    Efeito    | Estimativa |   Erro Padrão Aproximado   |\n",
    "|:------------:|:----------:|:--------------------------:|\n",
    "|  Constante   |  10.9711   |         7.95e+04           |\n",
    "|     Sexo     |   7.1489   |           3.995            |\n",
    "|     Idade    |   0.2948   |           0.134            |\n",
    "|     HL(2)    |  -1.2851   |         8.18e+04           |\n",
    "|     HL(3)    | -31.2519   |         7.95e+04           |\n",
    "|     HL(4)    | -51.2723   |         9.58e+04           |\n",
    "|     FF(2)    |  -2.1470   |           4.969            |\n",
    "|     FF(3)    |   3.6237   |           4.627            |\n",
    "|     FF(4)    |   4.9491   |           5.048            |\n",
    "\n",
    "\n",
    "O desvio do modelo é de D(y; µ̂) = 157,40 (166 graus de liberdade), indicando um ajuste adequado. Há indícios de que a chance de processo infecioso maligno seja maior para o sexo feminino do que para o sexo masculino. Notamos também que a chance de processo maligno aumenta significativamente com a idade e há indicações de que tanto para a célula FF quanto para HL a chance de processo maligno diminui à medida que aumenta a intensidade da célula.\n"
   ]
  }
 ],
 "metadata": {
  "kernelspec": {
   "display_name": ".venv",
   "language": "python",
   "name": "python3"
  },
  "language_info": {
   "codemirror_mode": {
    "name": "ipython",
    "version": 3
   },
   "file_extension": ".py",
   "mimetype": "text/x-python",
   "name": "python",
   "nbconvert_exporter": "python",
   "pygments_lexer": "ipython3",
   "version": "3.8.10"
  },
  "orig_nbformat": 4
 },
 "nbformat": 4,
 "nbformat_minor": 2
}
