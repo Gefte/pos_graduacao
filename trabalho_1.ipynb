{
 "cells": [
  {
   "attachments": {},
   "cell_type": "markdown",
   "metadata": {},
   "source": [
    "# Processo infeccioso pulmonar\n",
    "\n",
    "Neste estudo de caso-controle realizado no Setor de Anatomia e Patologia do Hospital Heliópolis em São Paulo, no período de 1970 a 1982, vamos analisar dados de pacientes com processo infeccioso pulmonar e ajustar um modelo logístico com efeitos principais.\n",
    "\n",
    "Os dados consistem em 175 pacientes classificados segundo as seguintes variáveis:\n",
    "- Y: tipo de tumor (1: maligno, 0: benigno)\n",
    "- IDADE: idade em anos\n",
    "- SEXO: sexo (0: masculino, 1: feminino)\n",
    "- HL: intensidade da célula histiócitos-linfócitos (1: ausente, 2: discreta, 3: moderada, 4: intensa)\n",
    "- FF: intensidade da célula fibrose-frouxa (1: ausente, 2: discreta, 3: moderada, 4: intensa)\n",
    "\n",
    "Vamos ajustar um Modelo Logístico para investigar a relação entre as variáveis explicativas e a chance de processo infeccioso pulmonar ser maligno.\n"
   ]
  },
  {
   "cell_type": "code",
   "execution_count": 63,
   "metadata": {},
   "outputs": [],
   "source": [
    "import pandas as pd\n",
    "import numpy as np\n",
    "import statsmodels.api as sm\n",
    "import statsmodels.formula.api as smf\n",
    "\n",
    "with open('canc3.dat', 'r') as file:\n",
    "    content = file.readlines()\n",
    "\n",
    "dados = []\n",
    "for line in content:\n",
    "    if line.strip():\n",
    "        row = list(map(int, line.split()))\n",
    "        for i in range(0, len(row), 5):\n",
    "            group = row[i:i+5]\n",
    "            dados.append(group)\n",
    "colunas = ['tipo', 'idade', 'sexo', 'hl', 'ff']\n",
    "df = pd.DataFrame(dados, columns=colunas)\n",
    "\n",
    "\n",
    "df['sexo'] = pd.Categorical(df['sexo'])\n",
    "df['hl'] = pd.Categorical(df['hl'])\n",
    "df['ff'] = pd.Categorical(df['ff'])"
   ]
  },
  {
   "attachments": {},
   "cell_type": "markdown",
   "metadata": {},
   "source": [
    "## Fundamentação teórica\n",
    "\n",
    "O Modelo Logístico é um tipo específico de Modelo Linear Generalizado (GLM). A variável resposta é binária, e a distribuição usada é a distribuição binomial. A escolha da distribuição binomial é justificada porque ela é adequada para modelar variáveis binárias, como a presença ou ausência de um evento.\n",
    "\n",
    "O Modelo Logístico utiliza a função de ligação logit:\n",
    "\n",
    "$$\n",
    "g(\\mu) = logit(\\mu) = log\\left(\\frac{\\mu}{1 - \\mu}\\right)\n",
    "$$\n",
    "\n",
    "A parte sistemática do modelo logístico é dada por:\n",
    "\n",
    "$$\n",
    "\\eta = \\beta_0 + \\beta_1 X_1 + \\beta_2 X_2 + ... + \\beta_p X_p\n",
    "$$\n",
    "\n",
    "No caso específico do problema apresentado, temos as seguintes variáveis explicativas: IDADE, SEXO, HL e FF. Portanto, o preditor linear η é dado por:\n",
    "\n",
    "$$\n",
    "\\eta = \\beta_1 + \\beta_2 \\cdot IDADE + \\beta_3 \\cdot SEXO + \\sum_{i=1}^{4} \\beta_{4i} \\cdot HL_i+ \\sum_{i=1}^{4} \\beta_{5i} \\cdot FF_i\n",
    "$$\n"
   ]
  },
  {
   "attachments": {},
   "cell_type": "markdown",
   "metadata": {},
   "source": [
    "$\\eta$ (eta): $\\eta$ é a combinação linear das variáveis independentes (ou preditoras) e seus respectivos coeficientes. Em outras palavras, é a soma ponderada das variáveis, levando em consideração a importância (peso) de cada variável no modelo.\n",
    "\n",
    "Onde $\\beta_1$ é o coeficiente da constante (intercept), $\\beta_2$, $\\beta_3$, $\\beta_{4i}$ e $\\beta_{5i}$ são os coeficientes das variáveis IDADE, SEXO, HL e FF, respectivamente.\n",
    "\n",
    "$Pr\\{Y = 1 | \\eta\\}$: Essa é a probabilidade condicional de Y = 1 (evento de interesse) dado $\\eta$. Em outras palavras, é a probabilidade de o evento ocorrer (Y = 1) com base nos valores das variáveis preditoras e seus coeficientes.\n",
    "\n",
    "${1 + e^{-\\eta}}^{-1}$: Essa é a função logística ou sigmóide. A função logística transforma os valores de $\\eta$ (que podem variar de -∞ a +∞) em uma probabilidade que varia de 0 a 1. A função é dada por:\n",
    "\n",
    "$$Pr\\{Y = 1 | \\eta\\} = \\frac{1}{1 + e^{-\\eta}}$$\n",
    "\n",
    "Aqui, $e^{-\\eta}$ é a exponencial de $-\\eta$, que é uma função matemática que cresce rapidamente à medida que $\\eta$ aumenta.\n",
    "\n",
    "Agora, juntando todas as partes:\n",
    "\n",
    "Calcule $\\eta$ com base nos valores das variáveis preditoras e seus coeficientes.\n",
    "Aplique a função logística a $\\eta$ para obter a probabilidade condicional de Y = 1.\n",
    "\n",
    "Assim, a fórmula apresentada é usada para estimar a probabilidade de o evento de interesse (Y = 1) ocorrer com base nos valores das variáveis preditoras e seus coeficientes em uma regressão logística.\n",
    "\n",
    "Agora vamos ajustar o modelo logístico aos dados e analisar os resultados.\n"
   ]
  },
  {
   "cell_type": "code",
   "execution_count": 64,
   "metadata": {},
   "outputs": [
    {
     "name": "stdout",
     "output_type": "stream",
     "text": [
      "                 Generalized Linear Model Regression Results                  \n",
      "==============================================================================\n",
      "Dep. Variable:                   tipo   No. Observations:                  175\n",
      "Model:                            GLM   Df Residuals:                      166\n",
      "Model Family:                Binomial   Df Model:                            8\n",
      "Link Function:                  Logit   Scale:                          1.0000\n",
      "Method:                          IRLS   Log-Likelihood:                -78.701\n",
      "Date:                Fri, 28 Apr 2023   Deviance:                       157.40\n",
      "Time:                        08:25:25   Pearson chi2:                     161.\n",
      "No. Iterations:                     6   Pseudo R-squ. (CS):             0.3631\n",
      "Covariance Type:            nonrobust                                         \n",
      "==============================================================================\n",
      "                 coef    std err          z      P>|z|      [0.025      0.975]\n",
      "------------------------------------------------------------------------------\n",
      "Intercept     -1.8504      1.063     -1.742      0.082      -3.933       0.232\n",
      "sexo[T.2]      0.7839      0.471      1.666      0.096      -0.139       1.706\n",
      "hl[T.2]       -0.8693      0.948     -0.917      0.359      -2.726       0.988\n",
      "hl[T.3]       -2.2490      0.972     -2.314      0.021      -4.154      -0.344\n",
      "hl[T.4]       -3.2956      1.480     -2.227      0.026      -6.196      -0.395\n",
      "ff[T.2]       -0.6872      0.504     -1.364      0.173      -1.675       0.301\n",
      "ff[T.3]       -1.0247      0.527     -1.944      0.052      -2.058       0.009\n",
      "ff[T.4]        0.4315      1.125      0.384      0.701      -1.773       2.636\n",
      "idade          0.0651      0.013      4.906      0.000       0.039       0.091\n",
      "==============================================================================\n"
     ]
    }
   ],
   "source": [
    "formula = 'tipo ~ sexo + idade + hl + ff'\n",
    "logistic_model = smf.glm(formula, data=df, family=sm.families.Binomial())\n",
    "fit = logistic_model.fit()\n",
    "print(fit.summary())\n"
   ]
  },
  {
   "attachments": {},
   "cell_type": "markdown",
   "metadata": {},
   "source": [
    "A tabela apresenta os resultados de um modelo de regressão logística generalizado ajustado aos dados sobre processos infecciosos pulmonares. A variável dependente (tipo de tumor) é binária, representada por 1 para maligno e 0 para benigno. As variáveis independentes incluem sexo, idade, intensidade da célula histiócitos-linfócitos (HL) e intensidade da célula fibrose-frouxa (FF).\n",
    "\n",
    "**Interpretação dos coeficientes:**\n",
    "\n",
    "Os coeficientes estimados indicam o efeito de cada variável independente na probabilidade logarítmica do tipo de tumor ser maligno, mantendo todas as outras variáveis constantes. Um coeficiente positivo indica um aumento na probabilidade logarítmica, enquanto um coeficiente negativo indica uma diminuição na probabilidade logarítmica.\n",
    "\n",
    "* Sexo: O coeficiente positivo de 0,784 indica que, mantendo todas as outras variáveis constantes, a probabilidade logarítmica do tipo de tumor ser maligno é maior para indivíduos do sexo feminino (T.2) em comparação com indivíduos do sexo masculino.\n",
    "\n",
    "* Idade: O coeficiente positivo de 0,065 sugere que, mantendo todas as outras variáveis constantes, um aumento de um ano na idade está associado a um aumento na probabilidade logarítmica do tipo de tumor ser maligno.\n",
    "\n",
    "* HL: Os coeficientes negativos para HL(2), HL(3) e HL(4) indicam que, mantendo todas as outras variáveis constantes, uma maior intensidade de células histiócitos-linfócitos está associada a uma menor probabilidade logarítmica do tipo de tumor ser maligno.\n",
    "\n",
    "* FF: Os coeficientes para FF(2), FF(3) e FF(4) são mistos, sugerindo uma relação mais complexa entre a intensidade da célula fibrose-frouxa e a probabilidade logarítmica do tipo de tumor ser maligno.\n",
    "\n",
    "**Tabela de Estimativas dos Parâmetros:**\n",
    "\n",
    "| Efeito     | Estimativa     | Efeito   | Estimativa    | Efeito   | Estimativa    |\n",
    "|------------|----------------|----------|---------------|----------|---------------|\n",
    "| Constante  | -1,850(1,060)   | HL(2)    | -0,869(0,945)  | FF(2)    | -0,687(0,502)  |\n",
    "| Sexo       | 0,784(0,469)    | HL(3)    | -2,249(0,968)  | FF(3)    | -1,025(0,525)  |\n",
    "| Idade      | 0,065(0,013)    | HL(4)    | -3,295(1,466)  | FF(4)    | 0,431(1,123)   |\n",
    "\n",
    "**Avaliação do ajuste do modelo:**\n",
    "\n",
    "O desvio do modelo (D(y; µ̂)) foi de 157,40 com 166 graus de liberdade. O desvio do modelo é uma medida de quão bem o modelo ajustado se ajusta aos dados. Um desvio próximo ao número de graus de liberdade (neste caso, 166) indica um\n"
   ]
  },
  {
   "cell_type": "markdown",
   "metadata": {},
   "source": []
  }
 ],
 "metadata": {
  "kernelspec": {
   "display_name": ".venv",
   "language": "python",
   "name": "python3"
  },
  "language_info": {
   "codemirror_mode": {
    "name": "ipython",
    "version": 3
   },
   "file_extension": ".py",
   "mimetype": "text/x-python",
   "name": "python",
   "nbconvert_exporter": "python",
   "pygments_lexer": "ipython3",
   "version": "3.8.10"
  },
  "orig_nbformat": 4
 },
 "nbformat": 4,
 "nbformat_minor": 2
}
